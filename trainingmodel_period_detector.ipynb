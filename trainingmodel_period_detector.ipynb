{
 "cells": [
  {
   "cell_type": "code",
   "execution_count": 2,
   "metadata": {},
   "outputs": [],
   "source": [
    "#Load libraries \n",
    "from keras.models import Sequential\n",
    "from keras.layers import Dense\n",
    "from keras.layers import Dropout\n",
    "import pandas as pd\n",
    "from sklearn.model_selection import train_test_split\n",
    "import matplotlib.pyplot as plt\n",
    "from sklearn import preprocessing\n",
    "import numpy as np\n",
    "from sklearn.metrics import accuracy_score\n",
    "from sklearn.metrics import precision_score\n",
    "from sklearn.metrics import recall_score\n",
    "from sklearn.metrics import f1_score\n",
    "from sklearn.metrics import confusion_matrix\n",
    "import time"
   ]
  },
  {
   "cell_type": "code",
   "execution_count": 3,
   "metadata": {},
   "outputs": [
    {
     "data": {
      "text/html": [
       "<div>\n",
       "<style scoped>\n",
       "    .dataframe tbody tr th:only-of-type {\n",
       "        vertical-align: middle;\n",
       "    }\n",
       "\n",
       "    .dataframe tbody tr th {\n",
       "        vertical-align: top;\n",
       "    }\n",
       "\n",
       "    .dataframe thead th {\n",
       "        text-align: right;\n",
       "    }\n",
       "</style>\n",
       "<table border=\"1\" class=\"dataframe\">\n",
       "  <thead>\n",
       "    <tr style=\"text-align: right;\">\n",
       "      <th></th>\n",
       "      <th>148239.5</th>\n",
       "      <th>1</th>\n",
       "      <th>0.2</th>\n",
       "      <th>149211</th>\n",
       "      <th>1.1</th>\n",
       "    </tr>\n",
       "  </thead>\n",
       "  <tbody>\n",
       "    <tr>\n",
       "      <th>0</th>\n",
       "      <td>138135.0</td>\n",
       "      <td>0.666667</td>\n",
       "      <td>0.466667</td>\n",
       "      <td>210478</td>\n",
       "      <td>1</td>\n",
       "    </tr>\n",
       "    <tr>\n",
       "      <th>1</th>\n",
       "      <td>226863.0</td>\n",
       "      <td>1.000000</td>\n",
       "      <td>0.200000</td>\n",
       "      <td>228424</td>\n",
       "      <td>1</td>\n",
       "    </tr>\n",
       "    <tr>\n",
       "      <th>2</th>\n",
       "      <td>210482.0</td>\n",
       "      <td>1.000000</td>\n",
       "      <td>0.200000</td>\n",
       "      <td>212674</td>\n",
       "      <td>1</td>\n",
       "    </tr>\n",
       "    <tr>\n",
       "      <th>3</th>\n",
       "      <td>233415.0</td>\n",
       "      <td>1.000000</td>\n",
       "      <td>0.200000</td>\n",
       "      <td>237036</td>\n",
       "      <td>1</td>\n",
       "    </tr>\n",
       "    <tr>\n",
       "      <th>4</th>\n",
       "      <td>217035.0</td>\n",
       "      <td>1.000000</td>\n",
       "      <td>0.200000</td>\n",
       "      <td>218946</td>\n",
       "      <td>1</td>\n",
       "    </tr>\n",
       "  </tbody>\n",
       "</table>\n",
       "</div>"
      ],
      "text/plain": [
       "   148239.5         1       0.2  149211  1.1\n",
       "0  138135.0  0.666667  0.466667  210478    1\n",
       "1  226863.0  1.000000  0.200000  228424    1\n",
       "2  210482.0  1.000000  0.200000  212674    1\n",
       "3  233415.0  1.000000  0.200000  237036    1\n",
       "4  217035.0  1.000000  0.200000  218946    1"
      ]
     },
     "execution_count": 3,
     "metadata": {},
     "output_type": "execute_result"
    }
   ],
   "source": [
    "#Preprocess dataset\n",
    "df = pd.read_csv('datasetnewest4.csv')\n",
    "df.head()"
   ]
  },
  {
   "cell_type": "code",
   "execution_count": 4,
   "metadata": {},
   "outputs": [
    {
     "data": {
      "text/plain": [
       "(2294, 5)"
      ]
     },
     "execution_count": 4,
     "metadata": {},
     "output_type": "execute_result"
    }
   ],
   "source": [
    "df.shape"
   ]
  },
  {
   "cell_type": "code",
   "execution_count": 5,
   "metadata": {},
   "outputs": [
    {
     "data": {
      "text/plain": [
       "<bound method DataFrame.info of       148239.5         1       0.2  149211  1.1\n",
       "0     138135.0  0.666667  0.466667  210478    1\n",
       "1     226863.0  1.000000  0.200000  228424    1\n",
       "2     210482.0  1.000000  0.200000  212674    1\n",
       "3     233415.0  1.000000  0.200000  237036    1\n",
       "4     217035.0  1.000000  0.200000  218946    1\n",
       "...        ...       ...       ...     ...  ...\n",
       "2289  151784.0  1.000000  0.200000  101189    1\n",
       "2290  155608.5  1.000000  0.200000  103742    1\n",
       "2291  154385.5  1.000000  0.200000  102924    1\n",
       "2292  154957.0  1.000000  0.200000  103304    1\n",
       "2293  138660.0  1.000000  0.200000   92440    1\n",
       "\n",
       "[2294 rows x 5 columns]>"
      ]
     },
     "execution_count": 5,
     "metadata": {},
     "output_type": "execute_result"
    }
   ],
   "source": [
    "df.info"
   ]
  },
  {
   "cell_type": "code",
   "execution_count": 6,
   "metadata": {},
   "outputs": [],
   "source": [
    "#Get all of the rows from the first four columns of the dataset\n",
    "X = df.values[:,0:4]\n",
    "#X = np.asarray(X).astype('int')\n",
    "# Get all of the rows from the last column\n",
    "y = df.values[:,4]"
   ]
  },
  {
   "cell_type": "code",
   "execution_count": 7,
   "metadata": {},
   "outputs": [],
   "source": [
    "#Transform dataset\n",
    "min_max_scaler = preprocessing.MinMaxScaler()\n",
    "X_scale = min_max_scaler.fit_transform(X)\n",
    "X_train, X_test, y_train, y_test = train_test_split(X_scale, y, test_size=0.1, random_state = 4)\n",
    "X_train=np.asarray(X_train).astype(np.int)\n",
    "y_train=np.asarray(y_train).astype(np.int)"
   ]
  },
  {
   "cell_type": "code",
   "execution_count": 14,
   "metadata": {},
   "outputs": [],
   "source": [
    "#Model ANN\n",
    "model = Sequential([\n",
    "    Dense(100, activation='relu', input_dim=4),\n",
    "    Dense(150, activation='relu'),\n",
    "    Dense(50, activation='relu'),\n",
    "    Dense(1, activation='sigmoid')\n",
    "])\n",
    "model.compile(optimizer='adam',\n",
    "              loss='mean_squared_error',\n",
    "              metrics=['accuracy'])"
   ]
  },
  {
   "cell_type": "code",
   "execution_count": 15,
   "metadata": {},
   "outputs": [
    {
     "name": "stdout",
     "output_type": "stream",
     "text": [
      "Epoch 1/100\n",
      "29/29 [==============================] - 0s 3ms/step - loss: 0.2450 - accuracy: 0.6511 - val_loss: 0.2361 - val_accuracy: 0.6852\n",
      "Epoch 2/100\n",
      "29/29 [==============================] - 0s 1ms/step - loss: 0.2193 - accuracy: 0.6554 - val_loss: 0.1923 - val_accuracy: 0.6852\n",
      "Epoch 3/100\n",
      "29/29 [==============================] - 0s 1ms/step - loss: 0.1775 - accuracy: 0.6784 - val_loss: 0.1691 - val_accuracy: 0.6852\n",
      "Epoch 4/100\n",
      "29/29 [==============================] - 0s 1ms/step - loss: 0.1687 - accuracy: 0.6838 - val_loss: 0.1662 - val_accuracy: 0.6852\n",
      "Epoch 5/100\n",
      "29/29 [==============================] - 0s 1ms/step - loss: 0.1680 - accuracy: 0.6808 - val_loss: 0.1663 - val_accuracy: 0.6852\n",
      "Epoch 6/100\n",
      "29/29 [==============================] - 0s 1ms/step - loss: 0.1683 - accuracy: 0.6717 - val_loss: 0.1665 - val_accuracy: 0.6852\n",
      "Epoch 7/100\n",
      "29/29 [==============================] - 0s 1ms/step - loss: 0.1675 - accuracy: 0.6899 - val_loss: 0.1664 - val_accuracy: 0.6852\n",
      "Epoch 8/100\n",
      "29/29 [==============================] - 0s 1ms/step - loss: 0.1686 - accuracy: 0.6899 - val_loss: 0.1669 - val_accuracy: 0.6852\n",
      "Epoch 9/100\n",
      "29/29 [==============================] - 0s 1ms/step - loss: 0.1676 - accuracy: 0.6899 - val_loss: 0.1662 - val_accuracy: 0.6852\n",
      "Epoch 10/100\n",
      "29/29 [==============================] - 0s 1ms/step - loss: 0.1676 - accuracy: 0.6899 - val_loss: 0.1663 - val_accuracy: 0.6852\n",
      "Epoch 11/100\n",
      "29/29 [==============================] - 0s 1ms/step - loss: 0.1676 - accuracy: 0.6899 - val_loss: 0.1664 - val_accuracy: 0.6852\n",
      "Epoch 12/100\n",
      "29/29 [==============================] - 0s 1ms/step - loss: 0.1677 - accuracy: 0.6899 - val_loss: 0.1661 - val_accuracy: 0.6852\n",
      "Epoch 13/100\n",
      "29/29 [==============================] - 0s 1ms/step - loss: 0.1676 - accuracy: 0.6899 - val_loss: 0.1663 - val_accuracy: 0.6852\n",
      "Epoch 14/100\n",
      "29/29 [==============================] - 0s 1ms/step - loss: 0.1678 - accuracy: 0.6899 - val_loss: 0.1667 - val_accuracy: 0.6852\n",
      "Epoch 15/100\n",
      "29/29 [==============================] - 0s 1ms/step - loss: 0.1675 - accuracy: 0.6899 - val_loss: 0.1661 - val_accuracy: 0.6852\n",
      "Epoch 16/100\n",
      "29/29 [==============================] - 0s 1ms/step - loss: 0.1677 - accuracy: 0.6899 - val_loss: 0.1665 - val_accuracy: 0.6852\n",
      "Epoch 17/100\n",
      "29/29 [==============================] - 0s 1ms/step - loss: 0.1675 - accuracy: 0.6899 - val_loss: 0.1661 - val_accuracy: 0.6852\n",
      "Epoch 18/100\n",
      "29/29 [==============================] - 0s 1ms/step - loss: 0.1673 - accuracy: 0.6899 - val_loss: 0.1664 - val_accuracy: 0.6852\n",
      "Epoch 19/100\n",
      "29/29 [==============================] - 0s 1ms/step - loss: 0.1675 - accuracy: 0.6899 - val_loss: 0.1661 - val_accuracy: 0.6852\n",
      "Epoch 20/100\n",
      "29/29 [==============================] - 0s 1ms/step - loss: 0.1676 - accuracy: 0.6899 - val_loss: 0.1662 - val_accuracy: 0.6852\n",
      "Epoch 21/100\n",
      "29/29 [==============================] - 0s 1ms/step - loss: 0.1677 - accuracy: 0.6899 - val_loss: 0.1662 - val_accuracy: 0.6852\n",
      "Epoch 22/100\n",
      "29/29 [==============================] - 0s 1ms/step - loss: 0.1681 - accuracy: 0.6899 - val_loss: 0.1661 - val_accuracy: 0.6852\n",
      "Epoch 23/100\n",
      "29/29 [==============================] - 0s 1ms/step - loss: 0.1676 - accuracy: 0.6899 - val_loss: 0.1662 - val_accuracy: 0.6852\n",
      "Epoch 24/100\n",
      "29/29 [==============================] - 0s 2ms/step - loss: 0.1674 - accuracy: 0.6899 - val_loss: 0.1662 - val_accuracy: 0.6852\n",
      "Epoch 25/100\n",
      "29/29 [==============================] - 0s 1ms/step - loss: 0.1674 - accuracy: 0.6899 - val_loss: 0.1661 - val_accuracy: 0.6852\n",
      "Epoch 26/100\n",
      "29/29 [==============================] - 0s 1ms/step - loss: 0.1675 - accuracy: 0.6899 - val_loss: 0.1661 - val_accuracy: 0.6852\n",
      "Epoch 27/100\n",
      "29/29 [==============================] - 0s 1ms/step - loss: 0.1674 - accuracy: 0.6899 - val_loss: 0.1661 - val_accuracy: 0.6852\n",
      "Epoch 28/100\n",
      "29/29 [==============================] - 0s 1ms/step - loss: 0.1674 - accuracy: 0.6899 - val_loss: 0.1661 - val_accuracy: 0.6852\n",
      "Epoch 29/100\n",
      "29/29 [==============================] - 0s 1ms/step - loss: 0.1675 - accuracy: 0.6899 - val_loss: 0.1661 - val_accuracy: 0.6852\n",
      "Epoch 30/100\n",
      "29/29 [==============================] - 0s 1ms/step - loss: 0.1676 - accuracy: 0.6899 - val_loss: 0.1664 - val_accuracy: 0.6852\n",
      "Epoch 31/100\n",
      "29/29 [==============================] - 0s 1ms/step - loss: 0.1678 - accuracy: 0.6899 - val_loss: 0.1661 - val_accuracy: 0.6852\n",
      "Epoch 32/100\n",
      "29/29 [==============================] - 0s 1ms/step - loss: 0.1677 - accuracy: 0.6899 - val_loss: 0.1662 - val_accuracy: 0.6852\n",
      "Epoch 33/100\n",
      "29/29 [==============================] - 0s 1ms/step - loss: 0.1678 - accuracy: 0.6899 - val_loss: 0.1661 - val_accuracy: 0.6852\n",
      "Epoch 34/100\n",
      "29/29 [==============================] - 0s 1ms/step - loss: 0.1674 - accuracy: 0.6899 - val_loss: 0.1661 - val_accuracy: 0.6852\n",
      "Epoch 35/100\n",
      "29/29 [==============================] - 0s 1ms/step - loss: 0.1675 - accuracy: 0.6899 - val_loss: 0.1662 - val_accuracy: 0.6852\n",
      "Epoch 36/100\n",
      "29/29 [==============================] - 0s 1ms/step - loss: 0.1674 - accuracy: 0.6899 - val_loss: 0.1661 - val_accuracy: 0.6852\n",
      "Epoch 37/100\n",
      "29/29 [==============================] - 0s 1ms/step - loss: 0.1673 - accuracy: 0.6899 - val_loss: 0.1661 - val_accuracy: 0.6852\n",
      "Epoch 38/100\n",
      "29/29 [==============================] - 0s 1ms/step - loss: 0.1674 - accuracy: 0.6899 - val_loss: 0.1661 - val_accuracy: 0.6852\n",
      "Epoch 39/100\n",
      "29/29 [==============================] - 0s 1ms/step - loss: 0.1673 - accuracy: 0.6899 - val_loss: 0.1662 - val_accuracy: 0.6852\n",
      "Epoch 40/100\n",
      "29/29 [==============================] - 0s 1ms/step - loss: 0.1674 - accuracy: 0.6899 - val_loss: 0.1661 - val_accuracy: 0.6852\n",
      "Epoch 41/100\n",
      "29/29 [==============================] - 0s 1ms/step - loss: 0.1674 - accuracy: 0.6899 - val_loss: 0.1661 - val_accuracy: 0.6852\n",
      "Epoch 42/100\n",
      "29/29 [==============================] - 0s 1ms/step - loss: 0.1673 - accuracy: 0.6899 - val_loss: 0.1662 - val_accuracy: 0.6852\n",
      "Epoch 43/100\n",
      "29/29 [==============================] - 0s 1ms/step - loss: 0.1674 - accuracy: 0.6899 - val_loss: 0.1662 - val_accuracy: 0.6852\n",
      "Epoch 44/100\n",
      "29/29 [==============================] - 0s 1ms/step - loss: 0.1675 - accuracy: 0.6899 - val_loss: 0.1661 - val_accuracy: 0.6852\n",
      "Epoch 45/100\n",
      "29/29 [==============================] - 0s 1ms/step - loss: 0.1674 - accuracy: 0.6899 - val_loss: 0.1662 - val_accuracy: 0.6852\n",
      "Epoch 46/100\n",
      "29/29 [==============================] - 0s 1ms/step - loss: 0.1674 - accuracy: 0.6899 - val_loss: 0.1661 - val_accuracy: 0.6852\n",
      "Epoch 47/100\n",
      "29/29 [==============================] - 0s 1ms/step - loss: 0.1677 - accuracy: 0.6899 - val_loss: 0.1661 - val_accuracy: 0.6852\n",
      "Epoch 48/100\n",
      "29/29 [==============================] - 0s 1ms/step - loss: 0.1676 - accuracy: 0.6899 - val_loss: 0.1661 - val_accuracy: 0.6852\n",
      "Epoch 49/100\n",
      "29/29 [==============================] - 0s 1ms/step - loss: 0.1673 - accuracy: 0.6899 - val_loss: 0.1661 - val_accuracy: 0.6852\n",
      "Epoch 50/100\n",
      "29/29 [==============================] - 0s 1ms/step - loss: 0.1673 - accuracy: 0.6899 - val_loss: 0.1662 - val_accuracy: 0.6852\n",
      "Epoch 51/100\n",
      "29/29 [==============================] - 0s 1ms/step - loss: 0.1673 - accuracy: 0.6899 - val_loss: 0.1662 - val_accuracy: 0.6852\n",
      "Epoch 52/100\n",
      "29/29 [==============================] - 0s 1ms/step - loss: 0.1674 - accuracy: 0.6899 - val_loss: 0.1662 - val_accuracy: 0.6852\n",
      "Epoch 53/100\n",
      "29/29 [==============================] - 0s 1ms/step - loss: 0.1675 - accuracy: 0.6899 - val_loss: 0.1662 - val_accuracy: 0.6852\n",
      "Epoch 54/100\n",
      "29/29 [==============================] - 0s 1ms/step - loss: 0.1675 - accuracy: 0.6899 - val_loss: 0.1662 - val_accuracy: 0.6852\n",
      "Epoch 55/100\n",
      "29/29 [==============================] - 0s 1ms/step - loss: 0.1675 - accuracy: 0.6899 - val_loss: 0.1661 - val_accuracy: 0.6852\n",
      "Epoch 56/100\n",
      "29/29 [==============================] - 0s 1ms/step - loss: 0.1674 - accuracy: 0.6899 - val_loss: 0.1661 - val_accuracy: 0.6852\n",
      "Epoch 57/100\n",
      "29/29 [==============================] - 0s 1ms/step - loss: 0.1674 - accuracy: 0.6899 - val_loss: 0.1661 - val_accuracy: 0.6852\n",
      "Epoch 58/100\n",
      "29/29 [==============================] - 0s 1ms/step - loss: 0.1674 - accuracy: 0.6899 - val_loss: 0.1661 - val_accuracy: 0.6852\n"
     ]
    },
    {
     "name": "stdout",
     "output_type": "stream",
     "text": [
      "Epoch 59/100\n",
      "29/29 [==============================] - 0s 1ms/step - loss: 0.1673 - accuracy: 0.6899 - val_loss: 0.1661 - val_accuracy: 0.6852\n",
      "Epoch 60/100\n",
      "29/29 [==============================] - 0s 1ms/step - loss: 0.1673 - accuracy: 0.6899 - val_loss: 0.1661 - val_accuracy: 0.6852\n",
      "Epoch 61/100\n",
      "29/29 [==============================] - 0s 1ms/step - loss: 0.1675 - accuracy: 0.6899 - val_loss: 0.1662 - val_accuracy: 0.6852\n",
      "Epoch 62/100\n",
      "29/29 [==============================] - 0s 1ms/step - loss: 0.1674 - accuracy: 0.6899 - val_loss: 0.1663 - val_accuracy: 0.6852\n",
      "Epoch 63/100\n",
      "29/29 [==============================] - 0s 1ms/step - loss: 0.1674 - accuracy: 0.6899 - val_loss: 0.1661 - val_accuracy: 0.6852\n",
      "Epoch 64/100\n",
      "29/29 [==============================] - 0s 1ms/step - loss: 0.1673 - accuracy: 0.6899 - val_loss: 0.1662 - val_accuracy: 0.6852\n",
      "Epoch 65/100\n",
      "29/29 [==============================] - 0s 1ms/step - loss: 0.1674 - accuracy: 0.6899 - val_loss: 0.1661 - val_accuracy: 0.6852\n",
      "Epoch 66/100\n",
      "29/29 [==============================] - 0s 1ms/step - loss: 0.1675 - accuracy: 0.6899 - val_loss: 0.1661 - val_accuracy: 0.6852\n",
      "Epoch 67/100\n",
      "29/29 [==============================] - 0s 1ms/step - loss: 0.1673 - accuracy: 0.6899 - val_loss: 0.1661 - val_accuracy: 0.6852\n",
      "Epoch 68/100\n",
      "29/29 [==============================] - 0s 1ms/step - loss: 0.1674 - accuracy: 0.6899 - val_loss: 0.1662 - val_accuracy: 0.6852\n",
      "Epoch 69/100\n",
      "29/29 [==============================] - 0s 1ms/step - loss: 0.1673 - accuracy: 0.6899 - val_loss: 0.1661 - val_accuracy: 0.6852\n",
      "Epoch 70/100\n",
      "29/29 [==============================] - 0s 1ms/step - loss: 0.1674 - accuracy: 0.6899 - val_loss: 0.1661 - val_accuracy: 0.6852\n",
      "Epoch 71/100\n",
      "29/29 [==============================] - 0s 1ms/step - loss: 0.1674 - accuracy: 0.6899 - val_loss: 0.1661 - val_accuracy: 0.6852\n",
      "Epoch 72/100\n",
      "29/29 [==============================] - 0s 1ms/step - loss: 0.1678 - accuracy: 0.6899 - val_loss: 0.1661 - val_accuracy: 0.6852\n",
      "Epoch 73/100\n",
      "29/29 [==============================] - 0s 1ms/step - loss: 0.1674 - accuracy: 0.6899 - val_loss: 0.1661 - val_accuracy: 0.6852\n",
      "Epoch 74/100\n",
      "29/29 [==============================] - 0s 1ms/step - loss: 0.1674 - accuracy: 0.6899 - val_loss: 0.1661 - val_accuracy: 0.6852\n",
      "Epoch 75/100\n",
      "29/29 [==============================] - 0s 1ms/step - loss: 0.1674 - accuracy: 0.6899 - val_loss: 0.1661 - val_accuracy: 0.6852\n",
      "Epoch 76/100\n",
      "29/29 [==============================] - 0s 1ms/step - loss: 0.1677 - accuracy: 0.6899 - val_loss: 0.1662 - val_accuracy: 0.6852\n",
      "Epoch 77/100\n",
      "29/29 [==============================] - 0s 1ms/step - loss: 0.1676 - accuracy: 0.6899 - val_loss: 0.1661 - val_accuracy: 0.6852\n",
      "Epoch 78/100\n",
      "29/29 [==============================] - 0s 1ms/step - loss: 0.1673 - accuracy: 0.6899 - val_loss: 0.1661 - val_accuracy: 0.6852\n",
      "Epoch 79/100\n",
      "29/29 [==============================] - 0s 1ms/step - loss: 0.1673 - accuracy: 0.6899 - val_loss: 0.1661 - val_accuracy: 0.6852\n",
      "Epoch 80/100\n",
      "29/29 [==============================] - 0s 1ms/step - loss: 0.1674 - accuracy: 0.6899 - val_loss: 0.1661 - val_accuracy: 0.6852\n",
      "Epoch 81/100\n",
      "29/29 [==============================] - 0s 1ms/step - loss: 0.1674 - accuracy: 0.6899 - val_loss: 0.1661 - val_accuracy: 0.6852\n",
      "Epoch 82/100\n",
      "29/29 [==============================] - 0s 1ms/step - loss: 0.1673 - accuracy: 0.6899 - val_loss: 0.1662 - val_accuracy: 0.6852\n",
      "Epoch 83/100\n",
      "29/29 [==============================] - 0s 1ms/step - loss: 0.1673 - accuracy: 0.6899 - val_loss: 0.1661 - val_accuracy: 0.6852\n",
      "Epoch 84/100\n",
      "29/29 [==============================] - 0s 1ms/step - loss: 0.1673 - accuracy: 0.6899 - val_loss: 0.1661 - val_accuracy: 0.6852\n",
      "Epoch 85/100\n",
      "29/29 [==============================] - 0s 1ms/step - loss: 0.1674 - accuracy: 0.6899 - val_loss: 0.1661 - val_accuracy: 0.6852\n",
      "Epoch 86/100\n",
      "29/29 [==============================] - 0s 1ms/step - loss: 0.1674 - accuracy: 0.6899 - val_loss: 0.1662 - val_accuracy: 0.6852\n",
      "Epoch 87/100\n",
      "29/29 [==============================] - 0s 1ms/step - loss: 0.1673 - accuracy: 0.6899 - val_loss: 0.1661 - val_accuracy: 0.6852\n",
      "Epoch 88/100\n",
      "29/29 [==============================] - 0s 1ms/step - loss: 0.1673 - accuracy: 0.6899 - val_loss: 0.1661 - val_accuracy: 0.6852\n",
      "Epoch 89/100\n",
      "29/29 [==============================] - 0s 1ms/step - loss: 0.1674 - accuracy: 0.6899 - val_loss: 0.1661 - val_accuracy: 0.6852\n",
      "Epoch 90/100\n",
      "29/29 [==============================] - 0s 1ms/step - loss: 0.1674 - accuracy: 0.6899 - val_loss: 0.1661 - val_accuracy: 0.6852\n",
      "Epoch 91/100\n",
      "29/29 [==============================] - 0s 1ms/step - loss: 0.1675 - accuracy: 0.6899 - val_loss: 0.1661 - val_accuracy: 0.6852\n",
      "Epoch 92/100\n",
      "29/29 [==============================] - 0s 1ms/step - loss: 0.1673 - accuracy: 0.6899 - val_loss: 0.1662 - val_accuracy: 0.6852\n",
      "Epoch 93/100\n",
      "29/29 [==============================] - 0s 1ms/step - loss: 0.1674 - accuracy: 0.6899 - val_loss: 0.1661 - val_accuracy: 0.6852\n",
      "Epoch 94/100\n",
      "29/29 [==============================] - 0s 1ms/step - loss: 0.1675 - accuracy: 0.6899 - val_loss: 0.1662 - val_accuracy: 0.6852\n",
      "Epoch 95/100\n",
      "29/29 [==============================] - 0s 1ms/step - loss: 0.1674 - accuracy: 0.6899 - val_loss: 0.1661 - val_accuracy: 0.6852\n",
      "Epoch 96/100\n",
      "29/29 [==============================] - 0s 1ms/step - loss: 0.1674 - accuracy: 0.6899 - val_loss: 0.1661 - val_accuracy: 0.6852\n",
      "Epoch 97/100\n",
      "29/29 [==============================] - 0s 1ms/step - loss: 0.1673 - accuracy: 0.6899 - val_loss: 0.1661 - val_accuracy: 0.6852\n",
      "Epoch 98/100\n",
      "29/29 [==============================] - 0s 1ms/step - loss: 0.1673 - accuracy: 0.6899 - val_loss: 0.1662 - val_accuracy: 0.6852\n",
      "Epoch 99/100\n",
      "29/29 [==============================] - 0s 1ms/step - loss: 0.1674 - accuracy: 0.6899 - val_loss: 0.1662 - val_accuracy: 0.6852\n",
      "Epoch 100/100\n",
      "29/29 [==============================] - 0s 1ms/step - loss: 0.1675 - accuracy: 0.6899 - val_loss: 0.1661 - val_accuracy: 0.6852\n"
     ]
    }
   ],
   "source": [
    "#training model\n",
    "hist = model.fit(X_train, y_train,\n",
    "          batch_size=57, epochs=100, validation_split=0.2)"
   ]
  },
  {
   "cell_type": "code",
   "execution_count": 16,
   "metadata": {},
   "outputs": [],
   "source": [
    "model.save(\"model_ANN.h5\")"
   ]
  },
  {
   "cell_type": "code",
   "execution_count": 17,
   "metadata": {},
   "outputs": [],
   "source": [
    "data=[[1,2,3,4]]\n",
    "prediction=model.predict(data)"
   ]
  },
  {
   "cell_type": "code",
   "execution_count": 18,
   "metadata": {},
   "outputs": [
    {
     "data": {
      "text/plain": [
       "Text(0.5, 51.0, 'Predicted')"
      ]
     },
     "execution_count": 18,
     "metadata": {},
     "output_type": "execute_result"
    },
    {
     "data": {
      "image/png": "[encoded data removed]",
      "text/plain": [
       "<Figure size 576x576 with 2 Axes>"
      ]
     },
     "metadata": {
      "needs_background": "light"
     },
     "output_type": "display_data"
    }
   ],
   "source": [
    "from sklearn.metrics import confusion_matrix\n",
    "import seaborn as sns \n",
    "import matplotlib.pyplot as plt\n",
    "y_pred=(model.predict(X_test)>0.8).astype(\"int32\")\n",
    "conf_mat = confusion_matrix(y_test, y_pred)\n",
    "fig, ax = plt.subplots(figsize=(8,8))\n",
    "sns.heatmap(conf_mat, annot=True, cmap=\"Blues\", fmt='d')\n",
    "plt.ylabel('Actual')\n",
    "plt.xlabel('Predicted')"
   ]
  },
  {
   "cell_type": "code",
   "execution_count": 19,
   "metadata": {},
   "outputs": [
    {
     "name": "stdout",
     "output_type": "stream",
     "text": [
      "Classification Report: \n",
      "               precision    recall  f1-score   support\n",
      "\n",
      "         0.0       1.00      1.00      1.00        73\n",
      "         1.0       1.00      1.00      1.00       157\n",
      "\n",
      "    accuracy                           1.00       230\n",
      "   macro avg       1.00      1.00      1.00       230\n",
      "weighted avg       1.00      1.00      1.00       230\n",
      "\n"
     ]
    }
   ],
   "source": [
    "from sklearn.metrics import classification_report\n",
    "print(f'Classification Report: \\n {classification_report(y_test,y_pred)}')"
   ]
  },
  {
   "cell_type": "code",
   "execution_count": null,
   "metadata": {},
   "outputs": [],
   "source": []
  }
 ],
 "metadata": {
  "kernelspec": {
   "display_name": "Python 3",
   "language": "python",
   "name": "python3"
  },
  "language_info": {
   "codemirror_mode": {
    "name": "ipython",
    "version": 3
   },
   "file_extension": ".py",
   "mimetype": "text/x-python",
   "name": "python",
   "nbconvert_exporter": "python",
   "pygments_lexer": "ipython3",
   "version": "3.8.10"
  }
 },
 "nbformat": 4,
 "nbformat_minor": 4
}
