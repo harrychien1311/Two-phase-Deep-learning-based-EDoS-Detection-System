{
 "cells": [
  {
   "cell_type": "code",
   "execution_count": 3,
   "metadata": {},
   "outputs": [],
   "source": [
    "import numpy\n",
    "import matplotlib.pyplot as plt\n",
    "import pandas as pd\n",
    "import math\n",
    "from keras.models import Sequential\n",
    "from keras.layers import Dense\n",
    "from keras.layers import LSTM\n",
    "from keras.layers import Dropout\n",
    "from sklearn.preprocessing import MinMaxScaler\n",
    "from sklearn.metrics import mean_squared_error\n",
    "from sklearn.metrics import accuracy_score\n",
    "from sklearn.metrics import precision_score\n",
    "from sklearn.metrics import recall_score\n",
    "from sklearn.metrics import f1_score\n",
    "from sklearn.metrics import confusion_matrix"
   ]
  },
  {
   "cell_type": "code",
   "execution_count": 4,
   "metadata": {},
   "outputs": [
    {
     "data": {
      "text/html": [
       "<div>\n",
       "<style scoped>\n",
       "    .dataframe tbody tr th:only-of-type {\n",
       "        vertical-align: middle;\n",
       "    }\n",
       "\n",
       "    .dataframe tbody tr th {\n",
       "        vertical-align: top;\n",
       "    }\n",
       "\n",
       "    .dataframe thead th {\n",
       "        text-align: right;\n",
       "    }\n",
       "</style>\n",
       "<table border=\"1\" class=\"dataframe\">\n",
       "  <thead>\n",
       "    <tr style=\"text-align: right;\">\n",
       "      <th></th>\n",
       "      <th>20201</th>\n",
       "      <th>1212000</th>\n",
       "      <th>0.000645609</th>\n",
       "    </tr>\n",
       "  </thead>\n",
       "  <tbody>\n",
       "    <tr>\n",
       "      <th>0</th>\n",
       "      <td>19521</td>\n",
       "      <td>1171200</td>\n",
       "      <td>0.000659</td>\n",
       "    </tr>\n",
       "    <tr>\n",
       "      <th>1</th>\n",
       "      <td>19245</td>\n",
       "      <td>1154640</td>\n",
       "      <td>0.000738</td>\n",
       "    </tr>\n",
       "    <tr>\n",
       "      <th>2</th>\n",
       "      <td>20202</td>\n",
       "      <td>1212060</td>\n",
       "      <td>0.000662</td>\n",
       "    </tr>\n",
       "    <tr>\n",
       "      <th>3</th>\n",
       "      <td>20202</td>\n",
       "      <td>1212060</td>\n",
       "      <td>0.000671</td>\n",
       "    </tr>\n",
       "    <tr>\n",
       "      <th>4</th>\n",
       "      <td>20661</td>\n",
       "      <td>1239600</td>\n",
       "      <td>0.000738</td>\n",
       "    </tr>\n",
       "  </tbody>\n",
       "</table>\n",
       "</div>"
      ],
      "text/plain": [
       "   20201  1212000  0.000645609\n",
       "0  19521  1171200     0.000659\n",
       "1  19245  1154640     0.000738\n",
       "2  20202  1212060     0.000662\n",
       "3  20202  1212060     0.000671\n",
       "4  20661  1239600     0.000738"
      ]
     },
     "execution_count": 4,
     "metadata": {},
     "output_type": "execute_result"
    }
   ],
   "source": [
    "dataX=pd.read_csv('data/datasetLSTMX.csv', engine='python')\n",
    "dataX.head()"
   ]
  },
  {
   "cell_type": "code",
   "execution_count": 5,
   "metadata": {},
   "outputs": [
    {
     "data": {
      "text/plain": [
       "<bound method NDFrame.head of       20201  1212000  0.000645609\n",
       "0     19521  1171200     0.000659\n",
       "1     19245  1154640     0.000738\n",
       "2     20202  1212060     0.000662\n",
       "3     20202  1212060     0.000671\n",
       "4     20661  1239600     0.000738\n",
       "...     ...      ...          ...\n",
       "1994      1       84     1.000000\n",
       "1995      1       84     1.000000\n",
       "1996      1       84     1.000000\n",
       "1997      1       84     1.000000\n",
       "1998      1       84     1.000000\n",
       "\n",
       "[1999 rows x 3 columns]>"
      ]
     },
     "execution_count": 5,
     "metadata": {},
     "output_type": "execute_result"
    }
   ],
   "source": [
    "dataX.head"
   ]
  },
  {
   "cell_type": "code",
   "execution_count": 6,
   "metadata": {},
   "outputs": [
    {
     "data": {
      "text/plain": [
       "(413, 1)"
      ]
     },
     "execution_count": 6,
     "metadata": {},
     "output_type": "execute_result"
    }
   ],
   "source": [
    "dataY=pd.read_csv('data/datasetLSTMY1.csv', engine='python')\n",
    "dataY.shape"
   ]
  },
  {
   "cell_type": "code",
   "execution_count": 7,
   "metadata": {},
   "outputs": [],
   "source": [
    "for i in range(215,1000,1):\n",
    "    dataY.at[i]=0\n",
    "for i in range(1000,1999,1):\n",
    "    dataY.at[i]=1"
   ]
  },
  {
   "cell_type": "code",
   "execution_count": 8,
   "metadata": {},
   "outputs": [
    {
     "data": {
      "text/plain": [
       "<bound method NDFrame.head of         0\n",
       "0     0.0\n",
       "1     0.0\n",
       "2     0.0\n",
       "3     0.0\n",
       "4     0.0\n",
       "...   ...\n",
       "1994  1.0\n",
       "1995  1.0\n",
       "1996  1.0\n",
       "1997  1.0\n",
       "1998  1.0\n",
       "\n",
       "[1999 rows x 1 columns]>"
      ]
     },
     "execution_count": 8,
     "metadata": {},
     "output_type": "execute_result"
    }
   ],
   "source": [
    "dataY.head"
   ]
  },
  {
   "cell_type": "code",
   "execution_count": 9,
   "metadata": {},
   "outputs": [
    {
     "data": {
      "text/html": [
       "<div>\n",
       "<style scoped>\n",
       "    .dataframe tbody tr th:only-of-type {\n",
       "        vertical-align: middle;\n",
       "    }\n",
       "\n",
       "    .dataframe tbody tr th {\n",
       "        vertical-align: top;\n",
       "    }\n",
       "\n",
       "    .dataframe thead th {\n",
       "        text-align: right;\n",
       "    }\n",
       "</style>\n",
       "<table border=\"1\" class=\"dataframe\">\n",
       "  <thead>\n",
       "    <tr style=\"text-align: right;\">\n",
       "      <th></th>\n",
       "      <th>20201</th>\n",
       "      <th>1212000</th>\n",
       "      <th>0.000645609</th>\n",
       "      <th>0</th>\n",
       "    </tr>\n",
       "  </thead>\n",
       "  <tbody>\n",
       "    <tr>\n",
       "      <th>0</th>\n",
       "      <td>19521</td>\n",
       "      <td>1171200</td>\n",
       "      <td>0.000659</td>\n",
       "      <td>0.0</td>\n",
       "    </tr>\n",
       "    <tr>\n",
       "      <th>1</th>\n",
       "      <td>19245</td>\n",
       "      <td>1154640</td>\n",
       "      <td>0.000738</td>\n",
       "      <td>0.0</td>\n",
       "    </tr>\n",
       "    <tr>\n",
       "      <th>2</th>\n",
       "      <td>20202</td>\n",
       "      <td>1212060</td>\n",
       "      <td>0.000662</td>\n",
       "      <td>0.0</td>\n",
       "    </tr>\n",
       "    <tr>\n",
       "      <th>3</th>\n",
       "      <td>20202</td>\n",
       "      <td>1212060</td>\n",
       "      <td>0.000671</td>\n",
       "      <td>0.0</td>\n",
       "    </tr>\n",
       "    <tr>\n",
       "      <th>4</th>\n",
       "      <td>20661</td>\n",
       "      <td>1239600</td>\n",
       "      <td>0.000738</td>\n",
       "      <td>0.0</td>\n",
       "    </tr>\n",
       "  </tbody>\n",
       "</table>\n",
       "</div>"
      ],
      "text/plain": [
       "   20201  1212000  0.000645609    0\n",
       "0  19521  1171200     0.000659  0.0\n",
       "1  19245  1154640     0.000738  0.0\n",
       "2  20202  1212060     0.000662  0.0\n",
       "3  20202  1212060     0.000671  0.0\n",
       "4  20661  1239600     0.000738  0.0"
      ]
     },
     "execution_count": 9,
     "metadata": {},
     "output_type": "execute_result"
    }
   ],
   "source": [
    "frames=[dataX,dataY]\n",
    "data=pd.concat(frames, axis=1)\n",
    "data.head()"
   ]
  },
  {
   "cell_type": "code",
   "execution_count": 10,
   "metadata": {},
   "outputs": [
    {
     "data": {
      "text/plain": [
       "(1999, 4)"
      ]
     },
     "execution_count": 10,
     "metadata": {},
     "output_type": "execute_result"
    }
   ],
   "source": [
    "data.shape"
   ]
  },
  {
   "cell_type": "code",
   "execution_count": 11,
   "metadata": {},
   "outputs": [],
   "source": [
    "#Get all of the rows from the first three columns of the dataset\n",
    "X = data.values[:,0:3]\n",
    "#X = np.asarray(X).astype('int')\n",
    "# Get all of the rows from the last column\n",
    "y = data.values[:,3]"
   ]
  },
  {
   "cell_type": "code",
   "execution_count": 12,
   "metadata": {},
   "outputs": [],
   "source": [
    "from sklearn import preprocessing\n",
    "from sklearn.model_selection import train_test_split\n",
    "import numpy as np"
   ]
  },
  {
   "cell_type": "code",
   "execution_count": 13,
   "metadata": {},
   "outputs": [],
   "source": [
    "#Transform dataset\n",
    "min_max_scaler = preprocessing.MinMaxScaler()\n",
    "X_scale = min_max_scaler.fit_transform(X)\n",
    "X_train, X_test, y_train, y_test = train_test_split(X_scale, y, test_size=0.1, random_state = 4)\n",
    "X_train=np.asarray(X_train).astype(np.int)\n",
    "y_train=np.asarray(y_train).astype(np.int)"
   ]
  },
  {
   "cell_type": "code",
   "execution_count": 14,
   "metadata": {},
   "outputs": [],
   "source": [
    "#Model\n",
    "model = Sequential([\n",
    "    Dense(12, activation='relu', input_dim=3),\n",
    "    Dense(15, activation='relu'),\n",
    "    Dense(18, activation='relu'),\n",
    "    Dense(1, activation='sigmoid')\n",
    "])\n",
    "model.compile(optimizer='adam',\n",
    "              loss='mean_squared_error',\n",
    "              metrics=['accuracy'])"
   ]
  },
  {
   "cell_type": "code",
   "execution_count": 15,
   "metadata": {},
   "outputs": [
    {
     "name": "stdout",
     "output_type": "stream",
     "text": [
      "Epoch 1/100\n",
      "26/26 [==============================] - 0s 4ms/step - loss: 0.2642 - accuracy: 0.2502 - val_loss: 0.2400 - val_accuracy: 1.0000\n",
      "Epoch 2/100\n",
      "26/26 [==============================] - 0s 1ms/step - loss: 0.2253 - accuracy: 0.9993 - val_loss: 0.2077 - val_accuracy: 1.0000\n",
      "Epoch 3/100\n",
      "26/26 [==============================] - 0s 1ms/step - loss: 0.1923 - accuracy: 0.9993 - val_loss: 0.1709 - val_accuracy: 1.0000\n",
      "Epoch 4/100\n",
      "26/26 [==============================] - 0s 1ms/step - loss: 0.1514 - accuracy: 0.9993 - val_loss: 0.1265 - val_accuracy: 1.0000\n",
      "Epoch 5/100\n",
      "26/26 [==============================] - 0s 1ms/step - loss: 0.1062 - accuracy: 0.9993 - val_loss: 0.0819 - val_accuracy: 1.0000\n",
      "Epoch 6/100\n",
      "26/26 [==============================] - 0s 1ms/step - loss: 0.0657 - accuracy: 0.9993 - val_loss: 0.0476 - val_accuracy: 1.0000\n",
      "Epoch 7/100\n",
      "26/26 [==============================] - 0s 1ms/step - loss: 0.0379 - accuracy: 0.9993 - val_loss: 0.0270 - val_accuracy: 1.0000\n",
      "Epoch 8/100\n",
      "26/26 [==============================] - 0s 1ms/step - loss: 0.0220 - accuracy: 0.9993 - val_loss: 0.0159 - val_accuracy: 1.0000\n",
      "Epoch 9/100\n",
      "26/26 [==============================] - 0s 1ms/step - loss: 0.0136 - accuracy: 0.9993 - val_loss: 0.0100 - val_accuracy: 1.0000\n",
      "Epoch 10/100\n",
      "26/26 [==============================] - 0s 1ms/step - loss: 0.0091 - accuracy: 0.9993 - val_loss: 0.0069 - val_accuracy: 1.0000\n",
      "Epoch 11/100\n",
      "26/26 [==============================] - 0s 1ms/step - loss: 0.0065 - accuracy: 0.9993 - val_loss: 0.0049 - val_accuracy: 1.0000\n",
      "Epoch 12/100\n",
      "26/26 [==============================] - 0s 1ms/step - loss: 0.0050 - accuracy: 0.9993 - val_loss: 0.0037 - val_accuracy: 1.0000\n",
      "Epoch 13/100\n",
      "26/26 [==============================] - 0s 1ms/step - loss: 0.0039 - accuracy: 0.9993 - val_loss: 0.0029 - val_accuracy: 1.0000\n",
      "Epoch 14/100\n",
      "26/26 [==============================] - 0s 1ms/step - loss: 0.0032 - accuracy: 0.9993 - val_loss: 0.0023 - val_accuracy: 1.0000\n",
      "Epoch 15/100\n",
      "26/26 [==============================] - 0s 1ms/step - loss: 0.0027 - accuracy: 0.9993 - val_loss: 0.0019 - val_accuracy: 1.0000\n",
      "Epoch 16/100\n",
      "26/26 [==============================] - 0s 1ms/step - loss: 0.0024 - accuracy: 0.9993 - val_loss: 0.0016 - val_accuracy: 1.0000\n",
      "Epoch 17/100\n",
      "26/26 [==============================] - 0s 1ms/step - loss: 0.0021 - accuracy: 0.9993 - val_loss: 0.0013 - val_accuracy: 1.0000\n",
      "Epoch 18/100\n",
      "26/26 [==============================] - 0s 1ms/step - loss: 0.0019 - accuracy: 0.9993 - val_loss: 0.0011 - val_accuracy: 1.0000\n",
      "Epoch 19/100\n",
      "26/26 [==============================] - 0s 1ms/step - loss: 0.0017 - accuracy: 0.9993 - val_loss: 9.7695e-04 - val_accuracy: 1.0000\n",
      "Epoch 20/100\n",
      "26/26 [==============================] - 0s 1ms/step - loss: 0.0016 - accuracy: 0.9993 - val_loss: 8.5569e-04 - val_accuracy: 1.0000\n",
      "Epoch 21/100\n",
      "26/26 [==============================] - 0s 1ms/step - loss: 0.0015 - accuracy: 0.9993 - val_loss: 7.5409e-04 - val_accuracy: 1.0000\n",
      "Epoch 22/100\n",
      "26/26 [==============================] - 0s 1ms/step - loss: 0.0014 - accuracy: 0.9993 - val_loss: 6.7165e-04 - val_accuracy: 1.0000\n",
      "Epoch 23/100\n",
      "26/26 [==============================] - 0s 1ms/step - loss: 0.0013 - accuracy: 0.9993 - val_loss: 6.0073e-04 - val_accuracy: 1.0000\n",
      "Epoch 24/100\n",
      "26/26 [==============================] - 0s 1ms/step - loss: 0.0012 - accuracy: 0.9993 - val_loss: 5.4562e-04 - val_accuracy: 1.0000\n",
      "Epoch 25/100\n",
      "26/26 [==============================] - 0s 1ms/step - loss: 0.0012 - accuracy: 0.9993 - val_loss: 4.9416e-04 - val_accuracy: 1.0000\n",
      "Epoch 26/100\n",
      "26/26 [==============================] - 0s 1ms/step - loss: 0.0011 - accuracy: 0.9993 - val_loss: 4.4865e-04 - val_accuracy: 1.0000\n",
      "Epoch 27/100\n",
      "26/26 [==============================] - 0s 1ms/step - loss: 0.0011 - accuracy: 0.9993 - val_loss: 4.1035e-04 - val_accuracy: 1.0000\n",
      "Epoch 28/100\n",
      "26/26 [==============================] - 0s 1ms/step - loss: 0.0011 - accuracy: 0.9993 - val_loss: 3.7534e-04 - val_accuracy: 1.0000\n",
      "Epoch 29/100\n",
      "26/26 [==============================] - 0s 1ms/step - loss: 0.0010 - accuracy: 0.9993 - val_loss: 3.4884e-04 - val_accuracy: 1.0000\n",
      "Epoch 30/100\n",
      "26/26 [==============================] - 0s 1ms/step - loss: 0.0010 - accuracy: 0.9993 - val_loss: 3.2184e-04 - val_accuracy: 1.0000\n",
      "Epoch 31/100\n",
      "26/26 [==============================] - 0s 1ms/step - loss: 9.8301e-04 - accuracy: 0.9993 - val_loss: 2.9779e-04 - val_accuracy: 1.0000\n",
      "Epoch 32/100\n",
      "26/26 [==============================] - 0s 1ms/step - loss: 9.6091e-04 - accuracy: 0.9993 - val_loss: 2.7621e-04 - val_accuracy: 1.0000\n",
      "Epoch 33/100\n",
      "26/26 [==============================] - 0s 1ms/step - loss: 9.4088e-04 - accuracy: 0.9993 - val_loss: 2.5697e-04 - val_accuracy: 1.0000\n",
      "Epoch 34/100\n",
      "26/26 [==============================] - 0s 1ms/step - loss: 9.2303e-04 - accuracy: 0.9993 - val_loss: 2.3972e-04 - val_accuracy: 1.0000\n",
      "Epoch 35/100\n",
      "26/26 [==============================] - 0s 1ms/step - loss: 9.0713e-04 - accuracy: 0.9993 - val_loss: 2.2393e-04 - val_accuracy: 1.0000\n",
      "Epoch 36/100\n",
      "26/26 [==============================] - 0s 1ms/step - loss: 8.9265e-04 - accuracy: 0.9993 - val_loss: 2.0984e-04 - val_accuracy: 1.0000\n",
      "Epoch 37/100\n",
      "26/26 [==============================] - 0s 1ms/step - loss: 8.7955e-04 - accuracy: 0.9993 - val_loss: 1.9693e-04 - val_accuracy: 1.0000\n",
      "Epoch 38/100\n",
      "26/26 [==============================] - 0s 1ms/step - loss: 8.6768e-04 - accuracy: 0.9993 - val_loss: 1.8521e-04 - val_accuracy: 1.0000\n",
      "Epoch 39/100\n",
      "26/26 [==============================] - 0s 1ms/step - loss: 8.5705e-04 - accuracy: 0.9993 - val_loss: 1.7413e-04 - val_accuracy: 1.0000\n",
      "Epoch 40/100\n",
      "26/26 [==============================] - 0s 1ms/step - loss: 8.4703e-04 - accuracy: 0.9993 - val_loss: 1.6429e-04 - val_accuracy: 1.0000\n",
      "Epoch 41/100\n",
      "26/26 [==============================] - 0s 1ms/step - loss: 8.3789e-04 - accuracy: 0.9993 - val_loss: 1.5552e-04 - val_accuracy: 1.0000\n",
      "Epoch 42/100\n",
      "26/26 [==============================] - 0s 1ms/step - loss: 8.2980e-04 - accuracy: 0.9993 - val_loss: 1.4696e-04 - val_accuracy: 1.0000\n",
      "Epoch 43/100\n",
      "26/26 [==============================] - 0s 1ms/step - loss: 8.2193e-04 - accuracy: 0.9993 - val_loss: 1.3951e-04 - val_accuracy: 1.0000\n",
      "Epoch 44/100\n",
      "26/26 [==============================] - 0s 1ms/step - loss: 8.1496e-04 - accuracy: 0.9993 - val_loss: 1.3243e-04 - val_accuracy: 1.0000\n",
      "Epoch 45/100\n",
      "26/26 [==============================] - 0s 1ms/step - loss: 8.0855e-04 - accuracy: 0.9993 - val_loss: 1.2554e-04 - val_accuracy: 1.0000\n",
      "Epoch 46/100\n",
      "26/26 [==============================] - 0s 1ms/step - loss: 8.0233e-04 - accuracy: 0.9993 - val_loss: 1.1961e-04 - val_accuracy: 1.0000\n",
      "Epoch 47/100\n",
      "26/26 [==============================] - 0s 1ms/step - loss: 7.9679e-04 - accuracy: 0.9993 - val_loss: 1.1399e-04 - val_accuracy: 1.0000\n",
      "Epoch 48/100\n",
      "26/26 [==============================] - 0s 1ms/step - loss: 7.9164e-04 - accuracy: 0.9993 - val_loss: 1.0860e-04 - val_accuracy: 1.0000\n",
      "Epoch 49/100\n",
      "26/26 [==============================] - 0s 1ms/step - loss: 7.8676e-04 - accuracy: 0.9993 - val_loss: 1.0366e-04 - val_accuracy: 1.0000\n",
      "Epoch 50/100\n",
      "26/26 [==============================] - 0s 1ms/step - loss: 7.8222e-04 - accuracy: 0.9993 - val_loss: 9.8999e-05 - val_accuracy: 1.0000\n",
      "Epoch 51/100\n",
      "26/26 [==============================] - 0s 1ms/step - loss: 7.7799e-04 - accuracy: 0.9993 - val_loss: 9.4648e-05 - val_accuracy: 1.0000\n",
      "Epoch 52/100\n",
      "26/26 [==============================] - 0s 1ms/step - loss: 7.7403e-04 - accuracy: 0.9993 - val_loss: 9.0593e-05 - val_accuracy: 1.0000\n",
      "Epoch 53/100\n",
      "26/26 [==============================] - 0s 1ms/step - loss: 7.7035e-04 - accuracy: 0.9993 - val_loss: 8.6806e-05 - val_accuracy: 1.0000\n",
      "Epoch 54/100\n",
      "26/26 [==============================] - 0s 1ms/step - loss: 7.6691e-04 - accuracy: 0.9993 - val_loss: 8.3173e-05 - val_accuracy: 1.0000\n",
      "Epoch 55/100\n",
      "26/26 [==============================] - 0s 1ms/step - loss: 7.6365e-04 - accuracy: 0.9993 - val_loss: 7.9716e-05 - val_accuracy: 1.0000\n",
      "Epoch 56/100\n",
      "26/26 [==============================] - 0s 1ms/step - loss: 7.6056e-04 - accuracy: 0.9993 - val_loss: 7.6562e-05 - val_accuracy: 1.0000\n"
     ]
    },
    {
     "name": "stdout",
     "output_type": "stream",
     "text": [
      "Epoch 57/100\n",
      "26/26 [==============================] - 0s 1ms/step - loss: 7.5775e-04 - accuracy: 0.9993 - val_loss: 7.3462e-05 - val_accuracy: 1.0000\n",
      "Epoch 58/100\n",
      "26/26 [==============================] - 0s 1ms/step - loss: 7.5497e-04 - accuracy: 0.9993 - val_loss: 7.0706e-05 - val_accuracy: 1.0000\n",
      "Epoch 59/100\n",
      "26/26 [==============================] - 0s 1ms/step - loss: 7.5243e-04 - accuracy: 0.9993 - val_loss: 6.8052e-05 - val_accuracy: 1.0000\n",
      "Epoch 60/100\n",
      "26/26 [==============================] - 0s 1ms/step - loss: 7.5005e-04 - accuracy: 0.9993 - val_loss: 6.5453e-05 - val_accuracy: 1.0000\n",
      "Epoch 61/100\n",
      "26/26 [==============================] - 0s 1ms/step - loss: 7.4771e-04 - accuracy: 0.9993 - val_loss: 6.3153e-05 - val_accuracy: 1.0000\n",
      "Epoch 62/100\n",
      "26/26 [==============================] - 0s 1ms/step - loss: 7.4561e-04 - accuracy: 0.9993 - val_loss: 6.0840e-05 - val_accuracy: 1.0000\n",
      "Epoch 63/100\n",
      "26/26 [==============================] - 0s 1ms/step - loss: 7.4355e-04 - accuracy: 0.9993 - val_loss: 5.8697e-05 - val_accuracy: 1.0000\n",
      "Epoch 64/100\n",
      "26/26 [==============================] - 0s 1ms/step - loss: 7.4164e-04 - accuracy: 0.9993 - val_loss: 5.6566e-05 - val_accuracy: 1.0000\n",
      "Epoch 65/100\n",
      "26/26 [==============================] - 0s 1ms/step - loss: 7.3976e-04 - accuracy: 0.9993 - val_loss: 5.4673e-05 - val_accuracy: 1.0000\n",
      "Epoch 66/100\n",
      "26/26 [==============================] - 0s 1ms/step - loss: 7.3804e-04 - accuracy: 0.9993 - val_loss: 5.2809e-05 - val_accuracy: 1.0000\n",
      "Epoch 67/100\n",
      "26/26 [==============================] - 0s 1ms/step - loss: 7.3638e-04 - accuracy: 0.9993 - val_loss: 5.1044e-05 - val_accuracy: 1.0000\n",
      "Epoch 68/100\n",
      "26/26 [==============================] - 0s 1ms/step - loss: 7.3481e-04 - accuracy: 0.9993 - val_loss: 4.9314e-05 - val_accuracy: 1.0000\n",
      "Epoch 69/100\n",
      "26/26 [==============================] - 0s 1ms/step - loss: 7.3336e-04 - accuracy: 0.9993 - val_loss: 4.7680e-05 - val_accuracy: 1.0000\n",
      "Epoch 70/100\n",
      "26/26 [==============================] - 0s 1ms/step - loss: 7.3230e-04 - accuracy: 0.9993 - val_loss: 4.6789e-05 - val_accuracy: 1.0000\n",
      "Epoch 71/100\n",
      "26/26 [==============================] - 0s 1ms/step - loss: 7.3108e-04 - accuracy: 0.9993 - val_loss: 4.5188e-05 - val_accuracy: 1.0000\n",
      "Epoch 72/100\n",
      "26/26 [==============================] - 0s 1ms/step - loss: 7.2970e-04 - accuracy: 0.9993 - val_loss: 4.3779e-05 - val_accuracy: 1.0000\n",
      "Epoch 73/100\n",
      "26/26 [==============================] - 0s 1ms/step - loss: 7.2845e-04 - accuracy: 0.9993 - val_loss: 4.2372e-05 - val_accuracy: 1.0000\n",
      "Epoch 74/100\n",
      "26/26 [==============================] - 0s 1ms/step - loss: 7.2720e-04 - accuracy: 0.9993 - val_loss: 4.1147e-05 - val_accuracy: 1.0000\n",
      "Epoch 75/100\n",
      "26/26 [==============================] - 0s 1ms/step - loss: 7.2607e-04 - accuracy: 0.9993 - val_loss: 3.9897e-05 - val_accuracy: 1.0000\n",
      "Epoch 76/100\n",
      "26/26 [==============================] - 0s 1ms/step - loss: 7.2499e-04 - accuracy: 0.9993 - val_loss: 3.8702e-05 - val_accuracy: 1.0000\n",
      "Epoch 77/100\n",
      "26/26 [==============================] - 0s 1ms/step - loss: 7.2394e-04 - accuracy: 0.9993 - val_loss: 3.7502e-05 - val_accuracy: 1.0000\n",
      "Epoch 78/100\n",
      "26/26 [==============================] - 0s 1ms/step - loss: 7.2290e-04 - accuracy: 0.9993 - val_loss: 3.6430e-05 - val_accuracy: 1.0000\n",
      "Epoch 79/100\n",
      "26/26 [==============================] - 0s 1ms/step - loss: 7.2198e-04 - accuracy: 0.9993 - val_loss: 3.5282e-05 - val_accuracy: 1.0000\n",
      "Epoch 80/100\n",
      "26/26 [==============================] - 0s 1ms/step - loss: 7.2101e-04 - accuracy: 0.9993 - val_loss: 3.4325e-05 - val_accuracy: 1.0000\n",
      "Epoch 81/100\n",
      "26/26 [==============================] - 0s 1ms/step - loss: 7.2014e-04 - accuracy: 0.9993 - val_loss: 3.3357e-05 - val_accuracy: 1.0000\n",
      "Epoch 82/100\n",
      "26/26 [==============================] - 0s 1ms/step - loss: 7.1930e-04 - accuracy: 0.9993 - val_loss: 3.2418e-05 - val_accuracy: 1.0000\n",
      "Epoch 83/100\n",
      "26/26 [==============================] - 0s 1ms/step - loss: 7.1849e-04 - accuracy: 0.9993 - val_loss: 3.1519e-05 - val_accuracy: 1.0000\n",
      "Epoch 84/100\n",
      "26/26 [==============================] - 0s 1ms/step - loss: 7.1773e-04 - accuracy: 0.9993 - val_loss: 3.0603e-05 - val_accuracy: 1.0000\n",
      "Epoch 85/100\n",
      "26/26 [==============================] - 0s 1ms/step - loss: 7.1697e-04 - accuracy: 0.9993 - val_loss: 2.9746e-05 - val_accuracy: 1.0000\n",
      "Epoch 86/100\n",
      "26/26 [==============================] - 0s 1ms/step - loss: 7.1623e-04 - accuracy: 0.9993 - val_loss: 2.9011e-05 - val_accuracy: 1.0000\n",
      "Epoch 87/100\n",
      "26/26 [==============================] - 0s 1ms/step - loss: 7.1555e-04 - accuracy: 0.9993 - val_loss: 2.8235e-05 - val_accuracy: 1.0000\n",
      "Epoch 88/100\n",
      "26/26 [==============================] - 0s 1ms/step - loss: 7.1489e-04 - accuracy: 0.9993 - val_loss: 2.7495e-05 - val_accuracy: 1.0000\n",
      "Epoch 89/100\n",
      "26/26 [==============================] - 0s 1ms/step - loss: 7.1425e-04 - accuracy: 0.9993 - val_loss: 2.6771e-05 - val_accuracy: 1.0000\n",
      "Epoch 90/100\n",
      "26/26 [==============================] - 0s 1ms/step - loss: 7.1364e-04 - accuracy: 0.9993 - val_loss: 2.6065e-05 - val_accuracy: 1.0000\n",
      "Epoch 91/100\n",
      "26/26 [==============================] - 0s 1ms/step - loss: 7.1308e-04 - accuracy: 0.9993 - val_loss: 2.5320e-05 - val_accuracy: 1.0000\n",
      "Epoch 92/100\n",
      "26/26 [==============================] - 0s 1ms/step - loss: 7.1247e-04 - accuracy: 0.9993 - val_loss: 2.4731e-05 - val_accuracy: 1.0000\n",
      "Epoch 93/100\n",
      "26/26 [==============================] - 0s 1ms/step - loss: 7.1193e-04 - accuracy: 0.9993 - val_loss: 2.4126e-05 - val_accuracy: 1.0000\n",
      "Epoch 94/100\n",
      "26/26 [==============================] - 0s 1ms/step - loss: 7.1141e-04 - accuracy: 0.9993 - val_loss: 2.3518e-05 - val_accuracy: 1.0000\n",
      "Epoch 95/100\n",
      "26/26 [==============================] - 0s 1ms/step - loss: 7.1091e-04 - accuracy: 0.9993 - val_loss: 2.2931e-05 - val_accuracy: 1.0000\n",
      "Epoch 96/100\n",
      "26/26 [==============================] - 0s 1ms/step - loss: 7.1043e-04 - accuracy: 0.9993 - val_loss: 2.2322e-05 - val_accuracy: 1.0000\n",
      "Epoch 97/100\n",
      "26/26 [==============================] - 0s 1ms/step - loss: 7.0995e-04 - accuracy: 0.9993 - val_loss: 2.1776e-05 - val_accuracy: 1.0000\n",
      "Epoch 98/100\n",
      "26/26 [==============================] - 0s 1ms/step - loss: 7.0947e-04 - accuracy: 0.9993 - val_loss: 2.1313e-05 - val_accuracy: 1.0000\n",
      "Epoch 99/100\n",
      "26/26 [==============================] - 0s 1ms/step - loss: 7.0907e-04 - accuracy: 0.9993 - val_loss: 2.0757e-05 - val_accuracy: 1.0000\n",
      "Epoch 100/100\n",
      "26/26 [==============================] - 0s 1ms/step - loss: 7.0862e-04 - accuracy: 0.9993 - val_loss: 2.0296e-05 - val_accuracy: 1.0000\n"
     ]
    }
   ],
   "source": [
    "#training model\n",
    "hist = model.fit(X_train, y_train,\n",
    "          batch_size=57, epochs=100, validation_split=0.2)"
   ]
  },
  {
   "cell_type": "code",
   "execution_count": 42,
   "metadata": {},
   "outputs": [],
   "source": [
    "model.save(\"models/model_flow.h5\")"
   ]
  },
  {
   "cell_type": "code",
   "execution_count": 17,
   "metadata": {},
   "outputs": [
    {
     "data": {
      "text/plain": [
       "Text(0.5, 51.0, 'Predicted')"
      ]
     },
     "execution_count": 17,
     "metadata": {},
     "output_type": "execute_result"
    },
    {
     "data": {
      "image/png": "[encoded data removed]",
      "text/plain": [
       "<Figure size 576x576 with 2 Axes>"
      ]
     },
     "metadata": {
      "needs_background": "light"
     },
     "output_type": "display_data"
    }
   ],
   "source": [
    "from sklearn.metrics import confusion_matrix\n",
    "import seaborn as sns \n",
    "import matplotlib.pyplot as plt\n",
    "y_pred=(model.predict(X_test)>0.8).astype(\"int32\")\n",
    "conf_mat = confusion_matrix(y_test, y_pred)\n",
    "fig, ax = plt.subplots(figsize=(8,8))\n",
    "sns.heatmap(conf_mat, annot=True, cmap=\"Blues\", fmt='d')\n",
    "plt.ylabel('Actual')\n",
    "plt.xlabel('Predicted')"
   ]
  },
  {
   "cell_type": "code",
   "execution_count": 19,
   "metadata": {},
   "outputs": [
    {
     "name": "stdout",
     "output_type": "stream",
     "text": [
      "Classification Report: \n",
      "               precision    recall  f1-score   support\n",
      "\n",
      "         0.0       0.99      0.99      0.99       104\n",
      "         1.0       0.99      0.99      0.99        96\n",
      "\n",
      "    accuracy                           0.99       200\n",
      "   macro avg       0.99      0.99      0.99       200\n",
      "weighted avg       0.99      0.99      0.99       200\n",
      "\n"
     ]
    }
   ],
   "source": [
    "from sklearn.metrics import classification_report\n",
    "print(f'Classification Report: \\n {classification_report(y_test,y_pred)}')"
   ]
  },
  {
   "cell_type": "code",
   "execution_count": null,
   "metadata": {},
   "outputs": [],
   "source": []
  }
 ],
 "metadata": {
  "kernelspec": {
   "display_name": "Python 3",
   "language": "python",
   "name": "python3"
  },
  "language_info": {
   "codemirror_mode": {
    "name": "ipython",
    "version": 3
   },
   "file_extension": ".py",
   "mimetype": "text/x-python",
   "name": "python",
   "nbconvert_exporter": "python",
   "pygments_lexer": "ipython3",
   "version": "3.8.10"
  }
 },
 "nbformat": 4,
 "nbformat_minor": 4
}
